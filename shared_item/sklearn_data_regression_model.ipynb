{
 "cells": [
  {
   "cell_type": "code",
   "execution_count": 4,
   "id": "9a073340",
   "metadata": {},
   "outputs": [
    {
     "data": {
      "image/png": "[encoded data removed]",
      "text/plain": [
       "<Figure size 432x288 with 1 Axes>"
      ]
     },
     "metadata": {
      "needs_background": "light"
     },
     "output_type": "display_data"
    }
   ],
   "source": [
    "import pandas as pd\n",
    "import numpy as np\n",
    "from sklearn import linear_model\n",
    "import matplotlib.pyplot as plt\n",
    "\n",
    "#load the data\n",
    "data=pd.read_csv('salary.csv')\n",
    "\n",
    "#split the dataset \n",
    "x=np.array(data.YearsExperience).reshape(-1,1)\n",
    "y=np.array(data.Salary).reshape(-1,1)\n",
    "\n",
    "#load the model \n",
    "\n",
    "linear_regression_model = linear_model.LinearRegression()\n",
    "\n",
    "#train the model : fit\n",
    "linear_regression_model.fit(x,y)\n",
    "\n",
    "#test the Model\n",
    "\n",
    "# xtest=np.array([3.0,1.0,9.0,5.2]).reshape(-1,1)\n",
    "xtest = x\n",
    "ytest_result = linear_regression_model.predict(xtest)\n",
    "# print(xtest)\n",
    "# print(ytest_result)\n",
    "\n",
    "#visualize the Actual value v/s prediceted value\n",
    "\n",
    "plt.scatter(x,y,color=\"red\")\n",
    "plt.scatter(x,ytest_result,color=\"blue\")\n",
    "plt.xlabel(\"Xtest\")\n",
    "plt.ylabel(\"Ytest\")\n",
    "plt.show()"
   ]
  },
  {
   "cell_type": "code",
   "execution_count": null,
   "id": "4a55812c",
   "metadata": {},
   "outputs": [],
   "source": []
  }
 ],
 "metadata": {
  "kernelspec": {
   "display_name": "Python 3 (ipykernel)",
   "language": "python",
   "name": "python3"
  },
  "language_info": {
   "codemirror_mode": {
    "name": "ipython",
    "version": 3
   },
   "file_extension": ".py",
   "mimetype": "text/x-python",
   "name": "python",
   "nbconvert_exporter": "python",
   "pygments_lexer": "ipython3",
   "version": "3.9.6"
  }
 },
 "nbformat": 4,
 "nbformat_minor": 5
}
