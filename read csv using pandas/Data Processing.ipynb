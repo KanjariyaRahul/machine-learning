{
 "cells": [
  {
   "cell_type": "code",
   "execution_count": 8,
   "id": "3b2fd627",
   "metadata": {},
   "outputs": [
    {
     "name": "stdout",
     "output_type": "stream",
     "text": [
      "[[3 5]\n",
      " [7 4]\n",
      " [2 4]]\n",
      "[4.         4.33333333]\n",
      "[2.1602469  0.47140452]\n",
      "[[-1.          0.66666667]\n",
      " [ 3.         -0.33333333]\n",
      " [-2.         -0.33333333]]\n",
      "[[-0.46291005  1.41421356]\n",
      " [ 1.38873015 -0.70710678]\n",
      " [-0.9258201  -0.70710678]]\n",
      "[0.00000000e+00 5.92118946e-16]\n",
      "[1. 1.]\n"
     ]
    }
   ],
   "source": [
    "import numpy as np\n",
    "import pandas as pd\n",
    "from sklearn import preprocessing\n",
    "\n",
    "data = np.array([[3,5],[7,4],[2,4]])\n",
    "print(data)\n",
    "\n",
    "#Way : 1\n",
    "#mean = average\n",
    "mean_val = data.mean(axis=0)\n",
    "print(mean_val)\n",
    "\n",
    "#Standard Deviation\n",
    "std = data.std(axis=0)\n",
    "print(std)\n",
    "\n",
    "#Mean Removal : it means mean=0, std=1\n",
    "final_val = data-mean_val\n",
    "print(final_val)\n",
    "# print(final_val.mean(axis = 0))\n",
    "# print(final_val.std(axis = 0))\n",
    "\n",
    "#Way:2\n",
    "#scale()\n",
    "final = preprocessing.scale(data)\n",
    "print(final)\n",
    "print(final.mean(axis = 0))\n",
    "print(final.std(axis = 0))\n"
   ]
  },
  {
   "cell_type": "code",
   "execution_count": 9,
   "id": "1d8929c0",
   "metadata": {},
   "outputs": [
    {
     "name": "stdout",
     "output_type": "stream",
     "text": [
      "    year  person   male  female\n",
      "0   2011   85.60  36.29   53.66\n",
      "1   2010   50.47  82.88   49.72\n",
      "2   2012    2.51  67.35   43.58\n",
      "3   1999   50.90  84.91    6.96\n",
      "4   1993    6.54  10.47   97.47\n",
      "5   1997   64.46  82.18    3.43\n",
      "6   2007    4.44  43.73   96.34\n",
      "7   2008   94.53  10.72   53.40\n",
      "8   2001    6.49  59.19   27.44\n",
      "9   2004   60.61  45.69   67.21\n",
      "10  1995   53.75  19.24   43.91\n",
      "11  2012   97.58   1.69   10.12\n",
      "12  2012   71.15  32.69   69.02\n",
      "13  1991    2.57  75.02   18.07\n",
      "14  2010   95.56  86.84   54.92\n",
      "15  2011    4.94  14.57   15.68\n",
      "16  1986   63.96  36.57   95.50\n",
      "17  1983   34.10  82.32   87.78\n",
      "18  2000   27.14  12.89   21.98\n",
      "19  1993    9.55  20.09   21.24\n",
      "20  1986   38.82  95.61   36.45\n",
      "21  2010   80.38  60.01   15.21\n",
      "22  2010    6.23  29.72   37.88\n",
      "23  2012   28.57  13.16   16.33\n",
      "24  1994   50.41  89.26   41.22\n",
      "25  2010   51.71  18.92   64.39\n",
      "26  1991   10.66  57.04   53.13\n",
      "27  1996   91.25  10.92   54.72\n",
      "28  2009   91.61  48.14   25.08\n",
      "29  1995   67.79   6.81   60.41\n",
      "===========================\n",
      "    person   male  female\n",
      "0    85.60  36.29   53.66\n",
      "1    50.47  82.88   49.72\n",
      "2     2.51  67.35   43.58\n",
      "3    50.90  84.91    6.96\n",
      "4     6.54  10.47   97.47\n",
      "5    64.46  82.18    3.43\n",
      "6     4.44  43.73   96.34\n",
      "7    94.53  10.72   53.40\n",
      "8     6.49  59.19   27.44\n",
      "9    60.61  45.69   67.21\n",
      "10   53.75  19.24   43.91\n",
      "11   97.58   1.69   10.12\n",
      "12   71.15  32.69   69.02\n",
      "13    2.57  75.02   18.07\n",
      "14   95.56  86.84   54.92\n",
      "15    4.94  14.57   15.68\n",
      "16   63.96  36.57   95.50\n",
      "17   34.10  82.32   87.78\n",
      "18   27.14  12.89   21.98\n",
      "19    9.55  20.09   21.24\n",
      "20   38.82  95.61   36.45\n",
      "21   80.38  60.01   15.21\n",
      "22    6.23  29.72   37.88\n",
      "23   28.57  13.16   16.33\n",
      "24   50.41  89.26   41.22\n",
      "25   51.71  18.92   64.39\n",
      "26   10.66  57.04   53.13\n",
      "27   91.25  10.92   54.72\n",
      "28   91.61  48.14   25.08\n",
      "29   67.79   6.81   60.41\n",
      "person    46.809333\n",
      "male      44.497333\n",
      "female    44.741667\n",
      "dtype: float64\n",
      "===========================\n",
      "person    33.109572\n",
      "male      30.160826\n",
      "female    27.231259\n",
      "dtype: float64\n",
      "[-4.44089210e-17 -1.48029737e-16 -4.44089210e-17]\n",
      "[1. 1. 1.]\n"
     ]
    }
   ],
   "source": [
    "df=pd.read_csv(\"csvdata.csv\")\n",
    "print(df)\n",
    "data = df[['person','male','female']]\n",
    "print(\"===========================\")\n",
    "print(data)\n",
    "\n",
    "print(data.mean(axis=0))\n",
    "print(\"===========================\")\n",
    "print(data.std(axis=0))\n",
    "\n",
    "mean_removed_data = preprocessing.scale(data)\n",
    "print(mean_removed_data.mean(axis=0))\n",
    "print(mean_removed_data.std(axis=0))"
   ]
  },
  {
   "cell_type": "markdown",
   "id": "b44e43c6",
   "metadata": {},
   "source": [
    "# Sclling"
   ]
  },
  {
   "cell_type": "code",
   "execution_count": 19,
   "id": "126cc5d8",
   "metadata": {},
   "outputs": [
    {
     "name": "stdout",
     "output_type": "stream",
     "text": [
      "[[0.2 1. ]\n",
      " [1.  0. ]\n",
      " [0.  0. ]]\n"
     ]
    }
   ],
   "source": [
    "data = np.array([[3,5],[7,4],[2,4]])\n",
    "\n",
    "#Define A scaller for scalling the data\n",
    "scaller_model= preprocessing.MinMaxScaler()\n",
    "\n",
    "\n",
    "#Apply data to the model : fit\n",
    "op1 = scaller_model.fit(data)\n",
    "\n",
    "\n",
    "#let the model tramsfer the data according to requirnment : transform\n",
    "op2=op1.transform(data)\n",
    "print(op2)\n"
   ]
  },
  {
   "cell_type": "code",
   "execution_count": 21,
   "id": "436c28af",
   "metadata": {},
   "outputs": [
    {
     "name": "stdout",
     "output_type": "stream",
     "text": [
      "[[0.2 1. ]\n",
      " [1.  0. ]\n",
      " [0.  0. ]]\n"
     ]
    }
   ],
   "source": [
    "data = np.array([[3,5],[7,4],[2,4]])\n",
    "\n",
    "#Define A scaller for scalling the data\n",
    "scaller_model= preprocessing.MinMaxScaler()\n",
    "\n",
    "#Apply the data to model and let the model transfer the data accordingly\n",
    "op = scaller_model.fit_transform(data)\n",
    "print(op)"
   ]
  },
  {
   "cell_type": "code",
   "execution_count": 22,
   "id": "f6b9d373",
   "metadata": {},
   "outputs": [
    {
     "name": "stdout",
     "output_type": "stream",
     "text": [
      "[[9.65517241e-01 8.73987588e-01 3.68398637e-01 5.34134411e-01]\n",
      " [9.31034483e-01 5.04470390e-01 8.64459114e-01 4.92237346e-01]\n",
      " [1.00000000e+00 0.00000000e+00 6.99105622e-01 4.26945980e-01]\n",
      " [5.51724138e-01 5.08993373e-01 8.86073254e-01 3.75372182e-02]\n",
      " [3.44827586e-01 4.23898180e-02 9.34838160e-02 1.00000000e+00]\n",
      " [4.82758621e-01 6.51625118e-01 8.57005963e-01 0.00000000e+00]\n",
      " [8.27586207e-01 2.03008310e-02 4.47614991e-01 9.87983837e-01]\n",
      " [8.62068966e-01 9.67918376e-01 9.61456559e-02 5.31369630e-01]\n",
      " [6.20689655e-01 4.18638898e-02 6.12223169e-01 2.55316886e-01]\n",
      " [7.24137931e-01 6.11128642e-01 4.68483816e-01 6.78222033e-01]\n",
      " [4.13793103e-01 5.38971284e-01 1.86861158e-01 4.30455125e-01]\n",
      " [1.00000000e+00 1.00000000e+00 0.00000000e+00 7.11399405e-02]\n",
      " [1.00000000e+00 7.21994320e-01 3.30068143e-01 6.97469162e-01]\n",
      " [2.75862069e-01 6.31113916e-04 7.80770869e-01 1.55678435e-01]\n",
      " [9.31034483e-01 9.78752498e-01 9.06622658e-01 5.47532965e-01]\n",
      " [9.65517241e-01 2.55601136e-02 1.37137990e-01 1.30263718e-01]\n",
      " [1.03448276e-01 6.46365836e-01 3.71379898e-01 9.79051467e-01]\n",
      " [0.00000000e+00 3.32281477e-01 8.58496593e-01 8.96958741e-01]\n",
      " [5.86206897e-01 2.59072263e-01 1.19250426e-01 1.97256487e-01]\n",
      " [3.44827586e-01 7.40506995e-02 1.95911414e-01 1.89387495e-01]\n",
      " [1.03448276e-01 3.81929105e-01 1.00000000e+00 3.51127180e-01]\n",
      " [9.31034483e-01 8.19080677e-01 6.20954003e-01 1.25265844e-01]\n",
      " [9.31034483e-01 3.91290628e-02 2.98445486e-01 3.66333475e-01]\n",
      " [1.00000000e+00 2.74113811e-01 1.22125213e-01 1.37175670e-01]\n",
      " [3.79310345e-01 5.03839276e-01 9.32389267e-01 4.01850276e-01]\n",
      " [9.31034483e-01 5.17513411e-01 1.83454003e-01 6.48234794e-01]\n",
      " [2.75862069e-01 8.57263069e-02 5.89331346e-01 5.28498511e-01]\n",
      " [4.48275862e-01 9.33417482e-01 9.82751278e-02 5.45406210e-01]\n",
      " [8.96551724e-01 9.37204165e-01 4.94569847e-01 2.30221182e-01]\n",
      " [4.13793103e-01 6.86651941e-01 5.45144804e-02 6.05912378e-01]]\n"
     ]
    }
   ],
   "source": [
    "df=pd.read_csv(\"csvdata.csv\")\n",
    "\n",
    "#Define A scaller for scalling the data\n",
    "scaller_model= preprocessing.MinMaxScaler()\n",
    "\n",
    "#Apply the data to model and let the model transfer the data accordingly\n",
    "op = scaller_model.fit_transform(df)\n",
    "print(op)"
   ]
  },
  {
   "cell_type": "code",
   "execution_count": null,
   "id": "3cdb8620",
   "metadata": {},
   "outputs": [],
   "source": []
  }
 ],
 "metadata": {
  "kernelspec": {
   "display_name": "Python 3 (ipykernel)",
   "language": "python",
   "name": "python3"
  },
  "language_info": {
   "codemirror_mode": {
    "name": "ipython",
    "version": 3
   },
   "file_extension": ".py",
   "mimetype": "text/x-python",
   "name": "python",
   "nbconvert_exporter": "python",
   "pygments_lexer": "ipython3",
   "version": "3.9.6"
  }
 },
 "nbformat": 4,
 "nbformat_minor": 5
}
