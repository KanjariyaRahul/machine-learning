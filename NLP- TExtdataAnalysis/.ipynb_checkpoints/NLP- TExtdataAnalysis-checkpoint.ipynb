{
 "cells": [
  {
   "cell_type": "markdown",
   "id": "deea94fc",
   "metadata": {},
   "source": [
    "# TextData Classification with Multinomial Naive Bayes"
   ]
  },
  {
   "cell_type": "code",
   "execution_count": null,
   "id": "74d07bbc",
   "metadata": {},
   "outputs": [],
   "source": [
    "from sklearn.datasets import fetch_20newsgroups\n",
    "from sklearn.naive_bayes import MultinomialNB\n",
    "from sklearn.feature_extraction.text import TfidfTransformer\n",
    "from sklearn.feature_extraction.text import CountVectorizer\n",
    "\n",
    "category_map={'misc.forsale':'Sales', 'rec.motorcycles': 'Motorcycles', 'rec.sport.baseball': 'Baseball', 'sci.crypt': 'Cryptography', 'sci.space': 'Space'}\n",
    "\n",
    "#Loading the training data based on the above categories...\n",
    "training_data=fetch_20newsgroups(subset=\"train\", categories=category_map.keys(), shuffle=True, random_state=7)\n",
    "for i in range(6):\n",
    "    print(training_data.data[i])\n",
    "\n",
    "#Imporing the feature extracter\n",
    "cv=CountVectorizer()\n",
    "#tc:term count\n",
    "xtrain_tc = cv.fit_transform(training_data.data)\n",
    "\n",
    "#Training the classifier using multinomial naive bayes classifier\n",
    "#Difining random input senteces\n",
    "input_data=['The curveballs of right handed pitchers tend to curve motorcycle to the left', 'Caesar cipher is an encient form of']\n",
    "\n",
    "#Define tfidf transformer object and train it..\n",
    "tfidf_obj=TfidfTransformer()\n",
    "xtrain_tfidf=tfidf_obj.fit_transform(xtrain_tc)\n",
    "\n",
    "#train the multi-nomial naive bayes classifier using above feature vectors\n",
    "classifier=MultinomialNB().fit(xtrain_tfidf, training_data.target)\n",
    "\n",
    "#tranform the input data using this word count\n",
    "input_data_tc=cv.transform(input_data)\n",
    "input_tfidf=tfidf_obj.transform(input_data_tc)\n",
    "\n",
    "#predicted classifier\n",
    "pc=classifier.predict(input_tfidf)\n",
    "for sentence, category in zip(input_data, pc):\n",
    "    print(sentence, \"-->\", category_map[training_data.target_names[category]])"
   ]
  },
  {
   "cell_type": "code",
   "execution_count": null,
   "id": "409ebc3c",
   "metadata": {},
   "outputs": [],
   "source": []
  }
 ],
 "metadata": {
  "kernelspec": {
   "display_name": "Python 3 (ipykernel)",
   "language": "python",
   "name": "python3"
  },
  "language_info": {
   "codemirror_mode": {
    "name": "ipython",
    "version": 3
   },
   "file_extension": ".py",
   "mimetype": "text/x-python",
   "name": "python",
   "nbconvert_exporter": "python",
   "pygments_lexer": "ipython3",
   "version": "3.9.6"
  }
 },
 "nbformat": 4,
 "nbformat_minor": 5
}
